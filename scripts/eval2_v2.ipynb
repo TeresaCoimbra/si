{
 "cells": [
  {
   "cell_type": "markdown",
   "metadata": {},
   "source": [
    "# Linear Regression"
   ]
  },
  {
   "cell_type": "code",
   "execution_count": 1,
   "metadata": {},
   "outputs": [],
   "source": [
    "import os\n",
    "os.chdir('C:\\\\Users\\\\teres\\\\Desktop\\\\Ano2_Bioinf_UM\\\\sistemas_inteligentes\\\\novo\\\\si\\\\src')"
   ]
  },
  {
   "cell_type": "code",
   "execution_count": 2,
   "metadata": {},
   "outputs": [],
   "source": [
    "from si.data import Dataset\n",
    "from si.util.util import summary\n",
    "from si.util.scale import StandardScaler\n",
    "from si.supervised import linreg, logreg\n",
    "import numpy as np\n"
   ]
  },
  {
   "cell_type": "code",
   "execution_count": 3,
   "metadata": {},
   "outputs": [
    {
     "data": {
      "text/html": [
       "<div>\n",
       "<style scoped>\n",
       "    .dataframe tbody tr th:only-of-type {\n",
       "        vertical-align: middle;\n",
       "    }\n",
       "\n",
       "    .dataframe tbody tr th {\n",
       "        vertical-align: top;\n",
       "    }\n",
       "\n",
       "    .dataframe thead th {\n",
       "        text-align: right;\n",
       "    }\n",
       "</style>\n",
       "<table border=\"1\" class=\"dataframe\">\n",
       "  <thead>\n",
       "    <tr style=\"text-align: right;\">\n",
       "      <th></th>\n",
       "      <th>A</th>\n",
       "      <th>Y</th>\n",
       "    </tr>\n",
       "  </thead>\n",
       "  <tbody>\n",
       "    <tr>\n",
       "      <th>mean</th>\n",
       "      <td>2.987301e-16</td>\n",
       "      <td>5.839135</td>\n",
       "    </tr>\n",
       "    <tr>\n",
       "      <th>var</th>\n",
       "      <td>1.000000e+00</td>\n",
       "      <td>30.049970</td>\n",
       "    </tr>\n",
       "    <tr>\n",
       "      <th>max</th>\n",
       "      <td>3.647694e+00</td>\n",
       "      <td>24.147000</td>\n",
       "    </tr>\n",
       "    <tr>\n",
       "      <th>min</th>\n",
       "      <td>-8.137648e-01</td>\n",
       "      <td>-2.680700</td>\n",
       "    </tr>\n",
       "  </tbody>\n",
       "</table>\n",
       "</div>"
      ],
      "text/plain": [
       "                 A          Y\n",
       "mean  2.987301e-16   5.839135\n",
       "var   1.000000e+00  30.049970\n",
       "max   3.647694e+00  24.147000\n",
       "min  -8.137648e-01  -2.680700"
      ]
     },
     "execution_count": 3,
     "metadata": {},
     "output_type": "execute_result"
    }
   ],
   "source": [
    "DIR = os.path.dirname(os.path.realpath('.'))\n",
    "filename = os.path.join(DIR, 'datasets/lr-example1.data')\n",
    "dataset = Dataset.from_data(filename, labeled=True)\n",
    "StandardScaler().fit_transform(dataset,inline=True)\n",
    "summary(dataset)"
   ]
  },
  {
   "cell_type": "code",
   "execution_count": 4,
   "metadata": {},
   "outputs": [
    {
     "data": {
      "image/png": "[encoded data removed]",
      "text/plain": [
       "<Figure size 432x288 with 1 Axes>"
      ]
     },
     "metadata": {
      "needs_background": "light"
     },
     "output_type": "display_data"
    }
   ],
   "source": [
    "import matplotlib.pyplot as plt\n",
    "%matplotlib inline\n",
    "if dataset.X.shape[1]==1:\n",
    "    plt.scatter(dataset.X, dataset.Y)\n",
    "    plt.show()\n"
   ]
  },
  {
   "cell_type": "markdown",
   "metadata": {},
   "source": [
    "## Linear Regression using closed form "
   ]
  },
  {
   "cell_type": "code",
   "execution_count": 5,
   "metadata": {},
   "outputs": [
    {
     "name": "stdout",
     "output_type": "stream",
     "text": [
      "Theta =  [5.83913505 4.59304113]\n"
     ]
    }
   ],
   "source": [
    "lr = linreg.LinearRegression()\n",
    "lr.fit(dataset)\n",
    "print('Theta = ', lr.theta)"
   ]
  },
  {
   "cell_type": "code",
   "execution_count": 6,
   "metadata": {},
   "outputs": [
    {
     "name": "stdout",
     "output_type": "stream",
     "text": [
      "x =  [-0.63614904]\n",
      "y_pred =  2.9172763535616557\n",
      "y_true =  3.2522\n"
     ]
    }
   ],
   "source": [
    "idx = 10\n",
    "x = dataset.X[idx]\n",
    "print(\"x = \",x)\n",
    "y = dataset.Y[idx]\n",
    "y_pred = lr.predict(x)\n",
    "print(\"y_pred = \",y_pred)\n",
    "print(\"y_true = \", y)\n"
   ]
  },
  {
   "cell_type": "code",
   "execution_count": 7,
   "metadata": {},
   "outputs": [
    {
     "data": {
      "text/plain": [
       "4.476971375975178"
      ]
     },
     "execution_count": 7,
     "metadata": {},
     "output_type": "execute_result"
    }
   ],
   "source": [
    "#mean squared error of the samples\n",
    "lr.cost()"
   ]
  },
  {
   "cell_type": "code",
   "execution_count": 8,
   "metadata": {},
   "outputs": [
    {
     "data": {
      "image/png": "[encoded data removed]",
      "text/plain": [
       "<Figure size 432x288 with 1 Axes>"
      ]
     },
     "metadata": {
      "needs_background": "light"
     },
     "output_type": "display_data"
    }
   ],
   "source": [
    "if dataset.X.shape[1] == 1:\n",
    "    plt.scatter(dataset.X, dataset.Y)\n",
    "    plt.plot(lr.X[:,1], np.dot(lr.X, lr.theta), '-', color='red')\n",
    "    plt.show()\n"
   ]
  },
  {
   "cell_type": "markdown",
   "metadata": {},
   "source": [
    "## Linear Regression using gradient descent"
   ]
  },
  {
   "cell_type": "markdown",
   "metadata": {},
   "source": [
    "Function optimization"
   ]
  },
  {
   "cell_type": "code",
   "execution_count": 9,
   "metadata": {},
   "outputs": [
    {
     "name": "stdout",
     "output_type": "stream",
     "text": [
      "Theta =  [5.83913505 4.59304113]\n"
     ]
    }
   ],
   "source": [
    "lr = linreg.LinearRegression(gd=True,epochs=50000)\n",
    "lr.fit(dataset)\n",
    "print('Theta = ', lr.theta)"
   ]
  },
  {
   "cell_type": "code",
   "execution_count": 10,
   "metadata": {},
   "outputs": [
    {
     "data": {
      "image/png": "[encoded data removed]",
      "text/plain": [
       "<Figure size 432x288 with 1 Axes>"
      ]
     },
     "metadata": {
      "needs_background": "light"
     },
     "output_type": "display_data"
    }
   ],
   "source": [
    "plt.plot(list(lr.history.keys()), [ y[1] for y in lr.history.values()], '-', color='red')\n",
    "plt.title('Cost')\n",
    "plt.show()"
   ]
  },
  {
   "cell_type": "markdown",
   "metadata": {},
   "source": [
    "# Linear Regression with Regularization"
   ]
  },
  {
   "cell_type": "code",
   "execution_count": 11,
   "metadata": {},
   "outputs": [
    {
     "name": "stdout",
     "output_type": "stream",
     "text": [
      "Theta =  [5.83913505 4.54617337]\n"
     ]
    }
   ],
   "source": [
    "lr = linreg.LinearRegressionReg()\n",
    "lr.fit(dataset)\n",
    "print('Theta = ', lr.theta)\n"
   ]
  },
  {
   "cell_type": "code",
   "execution_count": 12,
   "metadata": {},
   "outputs": [
    {
     "name": "stdout",
     "output_type": "stream",
     "text": [
      "x =  [-0.63614904]\n",
      "y_pred =  2.94709123823497\n",
      "y_true =  3.2522\n"
     ]
    }
   ],
   "source": [
    "idx = 10\n",
    "x = dataset.X[idx]\n",
    "print(\"x = \", x)\n",
    "y = dataset.Y[idx]\n",
    "y_pred = lr.predict(x)\n",
    "print(\"y_pred = \", y_pred)\n",
    "print(\"y_true = \", y)\n"
   ]
  },
  {
   "cell_type": "markdown",
   "metadata": {},
   "source": [
    "# Logistic Regression"
   ]
  },
  {
   "cell_type": "code",
   "execution_count": 13,
   "metadata": {},
   "outputs": [],
   "source": [
    "from si.supervised import logreg \n",
    "import pandas as pd"
   ]
  },
  {
   "cell_type": "code",
   "execution_count": 14,
   "metadata": {},
   "outputs": [
    {
     "data": {
      "text/html": [
       "<div>\n",
       "<style scoped>\n",
       "    .dataframe tbody tr th:only-of-type {\n",
       "        vertical-align: middle;\n",
       "    }\n",
       "\n",
       "    .dataframe tbody tr th {\n",
       "        vertical-align: top;\n",
       "    }\n",
       "\n",
       "    .dataframe thead th {\n",
       "        text-align: right;\n",
       "    }\n",
       "</style>\n",
       "<table border=\"1\" class=\"dataframe\">\n",
       "  <thead>\n",
       "    <tr style=\"text-align: right;\">\n",
       "      <th></th>\n",
       "      <th>A</th>\n",
       "      <th>B</th>\n",
       "      <th>Y</th>\n",
       "    </tr>\n",
       "  </thead>\n",
       "  <tbody>\n",
       "    <tr>\n",
       "      <th>mean</th>\n",
       "      <td>5.843333</td>\n",
       "      <td>3.054000</td>\n",
       "      <td>0.666667</td>\n",
       "    </tr>\n",
       "    <tr>\n",
       "      <th>var</th>\n",
       "      <td>0.681122</td>\n",
       "      <td>0.186751</td>\n",
       "      <td>0.222222</td>\n",
       "    </tr>\n",
       "    <tr>\n",
       "      <th>max</th>\n",
       "      <td>7.900000</td>\n",
       "      <td>4.400000</td>\n",
       "      <td>1.000000</td>\n",
       "    </tr>\n",
       "    <tr>\n",
       "      <th>min</th>\n",
       "      <td>4.300000</td>\n",
       "      <td>2.000000</td>\n",
       "      <td>0.000000</td>\n",
       "    </tr>\n",
       "  </tbody>\n",
       "</table>\n",
       "</div>"
      ],
      "text/plain": [
       "             A         B         Y\n",
       "mean  5.843333  3.054000  0.666667\n",
       "var   0.681122  0.186751  0.222222\n",
       "max   7.900000  4.400000  1.000000\n",
       "min   4.300000  2.000000  0.000000"
      ]
     },
     "execution_count": 14,
     "metadata": {},
     "output_type": "execute_result"
    }
   ],
   "source": [
    "filename = os.path.join(DIR, 'datasets/iris.data')\n",
    "df = pd.read_csv(filename)\n",
    "iris = Dataset.from_dataframe(df,ylabel=\"class\")\n",
    "y = [int(x != 'Iris-setosa') for x in iris.Y]\n",
    "dataset = Dataset(iris.X[:,:2],np.array(y))\n",
    "summary(dataset)"
   ]
  },
  {
   "cell_type": "code",
   "execution_count": 15,
   "metadata": {},
   "outputs": [
    {
     "data": {
      "image/png": "[encoded data removed]",
      "text/plain": [
       "<Figure size 432x288 with 1 Axes>"
      ]
     },
     "metadata": {
      "needs_background": "light"
     },
     "output_type": "display_data"
    }
   ],
   "source": [
    "plt.scatter(dataset.X[:,0], dataset.X[:,1],c=dataset.Y)\n",
    "plt.show()"
   ]
  },
  {
   "cell_type": "code",
   "execution_count": 16,
   "metadata": {},
   "outputs": [],
   "source": [
    "log_reg = logreg.LogisticRegression(epochs=20000)"
   ]
  },
  {
   "cell_type": "code",
   "execution_count": 17,
   "metadata": {},
   "outputs": [
    {
     "data": {
      "text/plain": [
       "array([-0.30425044,  1.41730047, -2.25671188])"
      ]
     },
     "execution_count": 17,
     "metadata": {},
     "output_type": "execute_result"
    }
   ],
   "source": [
    "log_reg.fit(dataset)\n",
    "log_reg.theta"
   ]
  },
  {
   "cell_type": "code",
   "execution_count": 18,
   "metadata": {},
   "outputs": [
    {
     "data": {
      "image/png": "[encoded data removed]",
      "text/plain": [
       "<Figure size 432x288 with 1 Axes>"
      ]
     },
     "metadata": {
      "needs_background": "light"
     },
     "output_type": "display_data"
    }
   ],
   "source": [
    "plt.scatter(dataset.X[:,0], dataset.X[:,1],c=dataset.Y)\n",
    "_x = np.linspace(min(dataset.X[:,0]),max(dataset.X[:,0]),2)\n",
    "_y = [(-log_reg.theta[0]-log_reg.theta[1]*x)/log_reg.theta[2] for x in _x]\n",
    "plt.plot(_x, _y, '-', color='red')\n",
    "plt.show()"
   ]
  },
  {
   "cell_type": "code",
   "execution_count": 19,
   "metadata": {},
   "outputs": [
    {
     "data": {
      "image/png": "[encoded data removed]",
      "text/plain": [
       "<Figure size 432x288 with 1 Axes>"
      ]
     },
     "metadata": {
      "needs_background": "light"
     },
     "output_type": "display_data"
    }
   ],
   "source": [
    "plt.plot(list(log_reg.history.keys()), [ y[1] for y in log_reg.history.values()], '-', color='red')\n",
    "plt.title('Cost')\n",
    "plt.show()"
   ]
  },
  {
   "cell_type": "code",
   "execution_count": 20,
   "metadata": {},
   "outputs": [
    {
     "name": "stdout",
     "output_type": "stream",
     "text": [
      "Pred. example: 1\n"
     ]
    }
   ],
   "source": [
    "ex = np.array([5.5, 2])\n",
    "print(\"Pred. example:\", log_reg.predict(ex))\n"
   ]
  },
  {
   "cell_type": "markdown",
   "metadata": {},
   "source": [
    "# Logistic Regression with L2 regularization"
   ]
  },
  {
   "cell_type": "code",
   "execution_count": 21,
   "metadata": {},
   "outputs": [
    {
     "data": {
      "text/plain": [
       "array([-0.88465655,  2.34501229, -3.72252587])"
      ]
     },
     "execution_count": 21,
     "metadata": {},
     "output_type": "execute_result"
    }
   ],
   "source": [
    "logreg = logreg.LogisticRegressionReg()\n",
    "logreg.fit(dataset)\n",
    "logreg.theta"
   ]
  },
  {
   "cell_type": "code",
   "execution_count": 22,
   "metadata": {},
   "outputs": [
    {
     "data": {
      "image/png": "[encoded data removed]",
      "text/plain": [
       "<Figure size 432x288 with 1 Axes>"
      ]
     },
     "metadata": {
      "needs_background": "light"
     },
     "output_type": "display_data"
    }
   ],
   "source": [
    "plt.scatter(dataset.X[:,0], dataset.X[:,1],c=dataset.Y)\n",
    "_x = np.linspace(min(dataset.X[:,0]),max(dataset.X[:,0]),2)\n",
    "_y = [(-logreg.theta[0]-logreg.theta[1]*x)/logreg.theta[2] for x in _x]\n",
    "plt.plot(_x, _y, '-', color='red')\n",
    "plt.show()"
   ]
  },
  {
   "cell_type": "code",
   "execution_count": 23,
   "metadata": {},
   "outputs": [
    {
     "name": "stdout",
     "output_type": "stream",
     "text": [
      "Pred. example: 1\n"
     ]
    }
   ],
   "source": [
    "ex = np.array([5.5, 2])\n",
    "print(\"Pred. example:\", logreg.predict(ex))\n"
   ]
  },
  {
   "cell_type": "markdown",
   "metadata": {},
   "source": [
    "# Cross-validation"
   ]
  },
  {
   "cell_type": "markdown",
   "metadata": {},
   "source": [
    "Iterações em diferentes conjuntos de treino e teste para treinar o modelo."
   ]
  },
  {
   "cell_type": "code",
   "execution_count": 24,
   "metadata": {},
   "outputs": [],
   "source": [
    "from si.util.cv import CrossValidationScore\n",
    "from si.supervised import logreg"
   ]
  },
  {
   "cell_type": "code",
   "execution_count": 25,
   "metadata": {},
   "outputs": [
    {
     "data": {
      "text/html": [
       "<div>\n",
       "<style scoped>\n",
       "    .dataframe tbody tr th:only-of-type {\n",
       "        vertical-align: middle;\n",
       "    }\n",
       "\n",
       "    .dataframe tbody tr th {\n",
       "        vertical-align: top;\n",
       "    }\n",
       "\n",
       "    .dataframe thead th {\n",
       "        text-align: right;\n",
       "    }\n",
       "</style>\n",
       "<table border=\"1\" class=\"dataframe\">\n",
       "  <thead>\n",
       "    <tr style=\"text-align: right;\">\n",
       "      <th></th>\n",
       "      <th>Train Scores</th>\n",
       "      <th>Test Scores</th>\n",
       "    </tr>\n",
       "  </thead>\n",
       "  <tbody>\n",
       "    <tr>\n",
       "      <th>0</th>\n",
       "      <td>0.566271</td>\n",
       "      <td>0.550653</td>\n",
       "    </tr>\n",
       "    <tr>\n",
       "      <th>1</th>\n",
       "      <td>0.573311</td>\n",
       "      <td>0.523273</td>\n",
       "    </tr>\n",
       "    <tr>\n",
       "      <th>2</th>\n",
       "      <td>0.560710</td>\n",
       "      <td>0.587127</td>\n",
       "    </tr>\n",
       "    <tr>\n",
       "      <th>3</th>\n",
       "      <td>0.565560</td>\n",
       "      <td>0.567179</td>\n",
       "    </tr>\n",
       "    <tr>\n",
       "      <th>4</th>\n",
       "      <td>0.559751</td>\n",
       "      <td>0.585686</td>\n",
       "    </tr>\n",
       "  </tbody>\n",
       "</table>\n",
       "</div>"
      ],
      "text/plain": [
       "   Train Scores  Test Scores\n",
       "0      0.566271     0.550653\n",
       "1      0.573311     0.523273\n",
       "2      0.560710     0.587127\n",
       "3      0.565560     0.567179\n",
       "4      0.559751     0.585686"
      ]
     },
     "execution_count": 25,
     "metadata": {},
     "output_type": "execute_result"
    }
   ],
   "source": [
    "logreg_1 = logreg.LogisticRegression(epochs=1000)\n",
    "cv = CrossValidationScore(logreg_1,dataset,cv=5)\n",
    "cv.run()\n",
    "cv.toDataframe()"
   ]
  },
  {
   "cell_type": "code",
   "execution_count": 26,
   "metadata": {},
   "outputs": [
    {
     "data": {
      "text/html": [
       "<div>\n",
       "<style scoped>\n",
       "    .dataframe tbody tr th:only-of-type {\n",
       "        vertical-align: middle;\n",
       "    }\n",
       "\n",
       "    .dataframe tbody tr th {\n",
       "        vertical-align: top;\n",
       "    }\n",
       "\n",
       "    .dataframe thead th {\n",
       "        text-align: right;\n",
       "    }\n",
       "</style>\n",
       "<table border=\"1\" class=\"dataframe\">\n",
       "  <thead>\n",
       "    <tr style=\"text-align: right;\">\n",
       "      <th></th>\n",
       "      <th>Train Scores</th>\n",
       "      <th>Test Scores</th>\n",
       "    </tr>\n",
       "  </thead>\n",
       "  <tbody>\n",
       "    <tr>\n",
       "      <th>0</th>\n",
       "      <td>0.173980</td>\n",
       "      <td>0.270286</td>\n",
       "    </tr>\n",
       "    <tr>\n",
       "      <th>1</th>\n",
       "      <td>0.155120</td>\n",
       "      <td>0.360445</td>\n",
       "    </tr>\n",
       "    <tr>\n",
       "      <th>2</th>\n",
       "      <td>0.179330</td>\n",
       "      <td>0.253343</td>\n",
       "    </tr>\n",
       "    <tr>\n",
       "      <th>3</th>\n",
       "      <td>0.176158</td>\n",
       "      <td>0.264728</td>\n",
       "    </tr>\n",
       "  </tbody>\n",
       "</table>\n",
       "</div>"
      ],
      "text/plain": [
       "   Train Scores  Test Scores\n",
       "0      0.173980     0.270286\n",
       "1      0.155120     0.360445\n",
       "2      0.179330     0.253343\n",
       "3      0.176158     0.264728"
      ]
     },
     "execution_count": 26,
     "metadata": {},
     "output_type": "execute_result"
    }
   ],
   "source": [
    "logreg_reg = logreg.LogisticRegressionReg(epochs=500, lbd=0.5)\n",
    "cv = CrossValidationScore(logreg_reg, dataset, cv=4)\n",
    "cv.run()\n",
    "cv.toDataframe()"
   ]
  },
  {
   "cell_type": "markdown",
   "metadata": {},
   "source": [
    "# Grid Search with Cross-Validation"
   ]
  },
  {
   "cell_type": "code",
   "execution_count": 28,
   "metadata": {},
   "outputs": [],
   "source": [
    "from si.util.cv import GridSearchCV"
   ]
  },
  {
   "cell_type": "code",
   "execution_count": 30,
   "metadata": {},
   "outputs": [],
   "source": [
    "parameters ={'epochs':[100,200,400,800,1000],'lbd':[0,0.2,0.4,0.6]}\n",
    "gs = GridSearchCV(logreg_reg, dataset, parameters, cv=3, split=0.8)\n",
    "gs.run()\n",
    "df = gs.toDataframe()"
   ]
  },
  {
   "cell_type": "code",
   "execution_count": 32,
   "metadata": {},
   "outputs": [
    {
     "data": {
      "text/html": [
       "<div>\n",
       "<style scoped>\n",
       "    .dataframe tbody tr th:only-of-type {\n",
       "        vertical-align: middle;\n",
       "    }\n",
       "\n",
       "    .dataframe tbody tr th {\n",
       "        vertical-align: top;\n",
       "    }\n",
       "\n",
       "    .dataframe thead th {\n",
       "        text-align: right;\n",
       "    }\n",
       "</style>\n",
       "<table border=\"1\" class=\"dataframe\">\n",
       "  <thead>\n",
       "    <tr style=\"text-align: right;\">\n",
       "      <th></th>\n",
       "      <th>epochs</th>\n",
       "      <th>lbd</th>\n",
       "      <th>Train1</th>\n",
       "      <th>Test1</th>\n",
       "      <th>Train2</th>\n",
       "      <th>Test2</th>\n",
       "      <th>Train3</th>\n",
       "      <th>Test3</th>\n",
       "    </tr>\n",
       "  </thead>\n",
       "  <tbody>\n",
       "    <tr>\n",
       "      <th>16</th>\n",
       "      <td>1000</td>\n",
       "      <td>0.0</td>\n",
       "      <td>0.068170</td>\n",
       "      <td>0.151924</td>\n",
       "      <td>0.082487</td>\n",
       "      <td>0.107584</td>\n",
       "      <td>0.091829</td>\n",
       "      <td>0.063771</td>\n",
       "    </tr>\n",
       "    <tr>\n",
       "      <th>12</th>\n",
       "      <td>800</td>\n",
       "      <td>0.0</td>\n",
       "      <td>0.082133</td>\n",
       "      <td>0.145547</td>\n",
       "      <td>0.101198</td>\n",
       "      <td>0.074001</td>\n",
       "      <td>0.101187</td>\n",
       "      <td>0.080944</td>\n",
       "    </tr>\n",
       "    <tr>\n",
       "      <th>13</th>\n",
       "      <td>800</td>\n",
       "      <td>0.2</td>\n",
       "      <td>0.105230</td>\n",
       "      <td>0.288303</td>\n",
       "      <td>0.131127</td>\n",
       "      <td>0.159583</td>\n",
       "      <td>0.133107</td>\n",
       "      <td>0.152407</td>\n",
       "    </tr>\n",
       "    <tr>\n",
       "      <th>17</th>\n",
       "      <td>1000</td>\n",
       "      <td>0.2</td>\n",
       "      <td>0.116312</td>\n",
       "      <td>0.199722</td>\n",
       "      <td>0.125631</td>\n",
       "      <td>0.158795</td>\n",
       "      <td>0.124881</td>\n",
       "      <td>0.161443</td>\n",
       "    </tr>\n",
       "    <tr>\n",
       "      <th>14</th>\n",
       "      <td>800</td>\n",
       "      <td>0.4</td>\n",
       "      <td>0.148461</td>\n",
       "      <td>0.263465</td>\n",
       "      <td>0.145243</td>\n",
       "      <td>0.277625</td>\n",
       "      <td>0.145573</td>\n",
       "      <td>0.283949</td>\n",
       "    </tr>\n",
       "    <tr>\n",
       "      <th>8</th>\n",
       "      <td>400</td>\n",
       "      <td>0.0</td>\n",
       "      <td>0.149567</td>\n",
       "      <td>0.129272</td>\n",
       "      <td>0.141385</td>\n",
       "      <td>0.160536</td>\n",
       "      <td>0.125850</td>\n",
       "      <td>0.213727</td>\n",
       "    </tr>\n",
       "    <tr>\n",
       "      <th>18</th>\n",
       "      <td>1000</td>\n",
       "      <td>0.4</td>\n",
       "      <td>0.150048</td>\n",
       "      <td>0.246709</td>\n",
       "      <td>0.147076</td>\n",
       "      <td>0.257840</td>\n",
       "      <td>0.141798</td>\n",
       "      <td>0.279019</td>\n",
       "    </tr>\n",
       "    <tr>\n",
       "      <th>9</th>\n",
       "      <td>400</td>\n",
       "      <td>0.2</td>\n",
       "      <td>0.161846</td>\n",
       "      <td>0.216886</td>\n",
       "      <td>0.160496</td>\n",
       "      <td>0.231009</td>\n",
       "      <td>0.162690</td>\n",
       "      <td>0.205350</td>\n",
       "    </tr>\n",
       "    <tr>\n",
       "      <th>19</th>\n",
       "      <td>1000</td>\n",
       "      <td>0.6</td>\n",
       "      <td>0.170478</td>\n",
       "      <td>0.317212</td>\n",
       "      <td>0.179162</td>\n",
       "      <td>0.284711</td>\n",
       "      <td>0.174088</td>\n",
       "      <td>0.297577</td>\n",
       "    </tr>\n",
       "    <tr>\n",
       "      <th>15</th>\n",
       "      <td>800</td>\n",
       "      <td>0.6</td>\n",
       "      <td>0.175565</td>\n",
       "      <td>0.295014</td>\n",
       "      <td>0.172806</td>\n",
       "      <td>0.307530</td>\n",
       "      <td>0.170347</td>\n",
       "      <td>0.315497</td>\n",
       "    </tr>\n",
       "    <tr>\n",
       "      <th>10</th>\n",
       "      <td>400</td>\n",
       "      <td>0.4</td>\n",
       "      <td>0.177363</td>\n",
       "      <td>0.246809</td>\n",
       "      <td>0.171762</td>\n",
       "      <td>0.266285</td>\n",
       "      <td>0.181046</td>\n",
       "      <td>0.226343</td>\n",
       "    </tr>\n",
       "    <tr>\n",
       "      <th>11</th>\n",
       "      <td>400</td>\n",
       "      <td>0.6</td>\n",
       "      <td>0.191555</td>\n",
       "      <td>0.315807</td>\n",
       "      <td>0.194496</td>\n",
       "      <td>0.276488</td>\n",
       "      <td>0.189024</td>\n",
       "      <td>0.305275</td>\n",
       "    </tr>\n",
       "    <tr>\n",
       "      <th>4</th>\n",
       "      <td>200</td>\n",
       "      <td>0.0</td>\n",
       "      <td>0.212983</td>\n",
       "      <td>0.280531</td>\n",
       "      <td>0.222111</td>\n",
       "      <td>0.208042</td>\n",
       "      <td>0.209835</td>\n",
       "      <td>0.236463</td>\n",
       "    </tr>\n",
       "    <tr>\n",
       "      <th>5</th>\n",
       "      <td>200</td>\n",
       "      <td>0.2</td>\n",
       "      <td>0.228606</td>\n",
       "      <td>0.242160</td>\n",
       "      <td>0.230161</td>\n",
       "      <td>0.232408</td>\n",
       "      <td>0.237088</td>\n",
       "      <td>0.216505</td>\n",
       "    </tr>\n",
       "    <tr>\n",
       "      <th>6</th>\n",
       "      <td>200</td>\n",
       "      <td>0.4</td>\n",
       "      <td>0.234642</td>\n",
       "      <td>0.278712</td>\n",
       "      <td>0.233886</td>\n",
       "      <td>0.276721</td>\n",
       "      <td>0.239741</td>\n",
       "      <td>0.258994</td>\n",
       "    </tr>\n",
       "    <tr>\n",
       "      <th>7</th>\n",
       "      <td>200</td>\n",
       "      <td>0.6</td>\n",
       "      <td>0.246006</td>\n",
       "      <td>0.302344</td>\n",
       "      <td>0.238508</td>\n",
       "      <td>0.308389</td>\n",
       "      <td>0.254911</td>\n",
       "      <td>0.245695</td>\n",
       "    </tr>\n",
       "    <tr>\n",
       "      <th>1</th>\n",
       "      <td>100</td>\n",
       "      <td>0.2</td>\n",
       "      <td>0.310783</td>\n",
       "      <td>0.380735</td>\n",
       "      <td>0.318714</td>\n",
       "      <td>0.319808</td>\n",
       "      <td>0.330677</td>\n",
       "      <td>0.320154</td>\n",
       "    </tr>\n",
       "    <tr>\n",
       "      <th>2</th>\n",
       "      <td>100</td>\n",
       "      <td>0.4</td>\n",
       "      <td>0.315455</td>\n",
       "      <td>0.376691</td>\n",
       "      <td>0.322204</td>\n",
       "      <td>0.359365</td>\n",
       "      <td>0.326568</td>\n",
       "      <td>0.328289</td>\n",
       "    </tr>\n",
       "    <tr>\n",
       "      <th>3</th>\n",
       "      <td>100</td>\n",
       "      <td>0.6</td>\n",
       "      <td>0.326394</td>\n",
       "      <td>0.351858</td>\n",
       "      <td>0.327591</td>\n",
       "      <td>0.365461</td>\n",
       "      <td>0.334697</td>\n",
       "      <td>0.320223</td>\n",
       "    </tr>\n",
       "    <tr>\n",
       "      <th>0</th>\n",
       "      <td>100</td>\n",
       "      <td>0.0</td>\n",
       "      <td>0.326977</td>\n",
       "      <td>0.312912</td>\n",
       "      <td>0.324962</td>\n",
       "      <td>0.280042</td>\n",
       "      <td>0.324069</td>\n",
       "      <td>0.294670</td>\n",
       "    </tr>\n",
       "  </tbody>\n",
       "</table>\n",
       "</div>"
      ],
      "text/plain": [
       "    epochs  lbd    Train1     Test1    Train2     Test2    Train3     Test3\n",
       "16    1000  0.0  0.068170  0.151924  0.082487  0.107584  0.091829  0.063771\n",
       "12     800  0.0  0.082133  0.145547  0.101198  0.074001  0.101187  0.080944\n",
       "13     800  0.2  0.105230  0.288303  0.131127  0.159583  0.133107  0.152407\n",
       "17    1000  0.2  0.116312  0.199722  0.125631  0.158795  0.124881  0.161443\n",
       "14     800  0.4  0.148461  0.263465  0.145243  0.277625  0.145573  0.283949\n",
       "8      400  0.0  0.149567  0.129272  0.141385  0.160536  0.125850  0.213727\n",
       "18    1000  0.4  0.150048  0.246709  0.147076  0.257840  0.141798  0.279019\n",
       "9      400  0.2  0.161846  0.216886  0.160496  0.231009  0.162690  0.205350\n",
       "19    1000  0.6  0.170478  0.317212  0.179162  0.284711  0.174088  0.297577\n",
       "15     800  0.6  0.175565  0.295014  0.172806  0.307530  0.170347  0.315497\n",
       "10     400  0.4  0.177363  0.246809  0.171762  0.266285  0.181046  0.226343\n",
       "11     400  0.6  0.191555  0.315807  0.194496  0.276488  0.189024  0.305275\n",
       "4      200  0.0  0.212983  0.280531  0.222111  0.208042  0.209835  0.236463\n",
       "5      200  0.2  0.228606  0.242160  0.230161  0.232408  0.237088  0.216505\n",
       "6      200  0.4  0.234642  0.278712  0.233886  0.276721  0.239741  0.258994\n",
       "7      200  0.6  0.246006  0.302344  0.238508  0.308389  0.254911  0.245695\n",
       "1      100  0.2  0.310783  0.380735  0.318714  0.319808  0.330677  0.320154\n",
       "2      100  0.4  0.315455  0.376691  0.322204  0.359365  0.326568  0.328289\n",
       "3      100  0.6  0.326394  0.351858  0.327591  0.365461  0.334697  0.320223\n",
       "0      100  0.0  0.326977  0.312912  0.324962  0.280042  0.324069  0.294670"
      ]
     },
     "execution_count": 32,
     "metadata": {},
     "output_type": "execute_result"
    }
   ],
   "source": [
    "df.sort_values(by=['Train1','Test1'])"
   ]
  },
  {
   "cell_type": "code",
   "execution_count": null,
   "metadata": {},
   "outputs": [],
   "source": []
  }
 ],
 "metadata": {
  "interpreter": {
   "hash": "84e5a2fd7e25c8bcf38508d69068628463a9d9ea1454c39f49bb2bfb5f0bb0bf"
  },
  "kernelspec": {
   "display_name": "Python 3",
   "language": "python",
   "name": "python3"
  },
  "language_info": {
   "codemirror_mode": {
    "name": "ipython",
    "version": 3
   },
   "file_extension": ".py",
   "mimetype": "text/x-python",
   "name": "python",
   "nbconvert_exporter": "python",
   "pygments_lexer": "ipython3",
   "version": "3.8.3"
  }
 },
 "nbformat": 4,
 "nbformat_minor": 4
}
